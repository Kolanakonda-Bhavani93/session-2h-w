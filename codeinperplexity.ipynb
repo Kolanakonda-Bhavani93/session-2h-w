{
 "cells": [
  {
   "cell_type": "code",
   "execution_count": 1,
   "id": "d4b119a5-bb0e-4dc5-897f-f0421a993640",
   "metadata": {},
   "outputs": [
    {
     "name": "stdout",
     "output_type": "stream",
     "text": [
      "The average is:  30.0\n",
      "Prime numbers:  [2, 3, 5, 7]\n",
      "Error: File not found at data.csv\n",
      "Random number is: 28\n",
      "Generated Random Number:  28\n",
      "Can't divide by zero\n",
      "Numbers divisible by 3 and 5 are:  [0, 15, 30, 45, 60, 75, 90]\n"
     ]
    }
   ],
   "source": [
    "import numpy as np\n",
    "import pandas as pd\n",
    "import random\n",
    "\n",
    "def generate_random_number(min_num, max_num):\n",
    "    \"\"\"Generates a random integer between min_num and max_num (inclusive) and prints it.\"\"\"\n",
    "    num = random.randint(min_num, max_num)\n",
    "    print(\"Random number is: \" + str(num))  # Corrected: Convert num to string for concatenation\n",
    "    return num # Added return statement\n",
    "\n",
    "def calc_average(num_list):\n",
    "    \"\"\"Calculates the average of a list of numbers.\"\"\"\n",
    "    total = sum(num_list)\n",
    "    return total / len(num_list) # Corrected: Use len() to get the length of the list\n",
    "\n",
    "def check_prime(start, end):\n",
    "    \"\"\"Finds prime numbers within a given range (start, end).\"\"\"\n",
    "    prime_list = []\n",
    "    for i in range(start, end):\n",
    "        if i > 1:  # Corrected: 1 is not a prime number, so start checking from 2\n",
    "            is_prime = True\n",
    "            for j in range(2, int(i**0.5) + 1): # Optimized: Check divisibility up to the square root of i\n",
    "                if (i % j) == 0:\n",
    "                    is_prime = False\n",
    "                    break\n",
    "            if is_prime:\n",
    "                prime_list.append(i)\n",
    "    return prime_list\n",
    "\n",
    "def load_data(filepath):\n",
    "    \"\"\"Loads data from a CSV file using pandas.\"\"\"\n",
    "    try:\n",
    "        data = pd.read_csv(filepath)\n",
    "        return data\n",
    "    except FileNotFoundError:\n",
    "        print(f\"Error: File not found at {filepath}\")\n",
    "        return None # Handle File Not Found Error\n",
    "\n",
    "def main():\n",
    "    \"\"\"Main function to execute the program.\"\"\"\n",
    "    num_list = [10, 20, 30, 40, 50] #Corrected : \"forty\" to 40, to perform calculations\n",
    "    try:\n",
    "        print(\"The average is: \", calc_average(num_list))\n",
    "    except TypeError:\n",
    "        print(\"Error: List contains non-numeric values.  Please provide a list of numbers only.\")\n",
    "\n",
    "\n",
    "    print(\"Prime numbers: \", check_prime(1, 10))\n",
    "\n",
    "    file_path = \"data.csv\"\n",
    "    data = load_data(file_path)\n",
    "    if data is not None:\n",
    "        print(\"Data loaded: \\n\", data) #Added newline for better formatting\n",
    "\n",
    "    random_num = generate_random_number(1, 100)\n",
    "    print(\"Generated Random Number: \", random_num)\n",
    "\n",
    "    try:\n",
    "        print(\"Result of division: \", 10 / 0)\n",
    "    except ZeroDivisionError:\n",
    "        print(\"Can't divide by zero\")\n",
    "\n",
    "    numbers = [x for x in range(100) if x % 3 == 0 and x % 5 == 0]\n",
    "    print(\"Numbers divisible by 3 and 5 are: \", numbers)\n",
    "\n",
    "   # undefined_function_call() #Corrected: This will cause an error. Removed the function since it is not defined.\n",
    "\n",
    "if __name__ == \"__main__\":\n",
    "    main()\n"
   ]
  },
  {
   "cell_type": "code",
   "execution_count": null,
   "id": "22c8e6f5-6f4b-4ea3-9629-a5595a3808c5",
   "metadata": {},
   "outputs": [],
   "source": []
  }
 ],
 "metadata": {
  "kernelspec": {
   "display_name": "Python [conda env:base] *",
   "language": "python",
   "name": "conda-base-py"
  },
  "language_info": {
   "codemirror_mode": {
    "name": "ipython",
    "version": 3
   },
   "file_extension": ".py",
   "mimetype": "text/x-python",
   "name": "python",
   "nbconvert_exporter": "python",
   "pygments_lexer": "ipython3",
   "version": "3.12.7"
  }
 },
 "nbformat": 4,
 "nbformat_minor": 5
}
