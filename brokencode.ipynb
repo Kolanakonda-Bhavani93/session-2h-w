{
 "cells": [
  {
   "cell_type": "code",
   "execution_count": 1,
   "id": "55adfd3e-948a-494d-aef2-55f3e6c5e021",
   "metadata": {},
   "outputs": [
    {
     "ename": "TypeError",
     "evalue": "unsupported operand type(s) for +: 'int' and 'str'",
     "output_type": "error",
     "traceback": [
      "\u001b[1;31m---------------------------------------------------------------------------\u001b[0m",
      "\u001b[1;31mTypeError\u001b[0m                                 Traceback (most recent call last)",
      "Cell \u001b[1;32mIn[1], line 46\u001b[0m\n\u001b[0;32m     42\u001b[0m     \u001b[38;5;28mprint\u001b[39m(\u001b[38;5;124m\"\u001b[39m\u001b[38;5;124mNumbers divisible by 3 and 5 are: \u001b[39m\u001b[38;5;124m\"\u001b[39m, numbers)\n\u001b[0;32m     44\u001b[0m     undefined_function_call()\n\u001b[1;32m---> 46\u001b[0m main()\n",
      "Cell \u001b[1;32mIn[1], line 26\u001b[0m, in \u001b[0;36mmain\u001b[1;34m()\u001b[0m\n\u001b[0;32m     24\u001b[0m \u001b[38;5;28;01mdef\u001b[39;00m \u001b[38;5;21mmain\u001b[39m():\n\u001b[0;32m     25\u001b[0m     num_list \u001b[38;5;241m=\u001b[39m [\u001b[38;5;241m10\u001b[39m, \u001b[38;5;241m20\u001b[39m, \u001b[38;5;241m30\u001b[39m, \u001b[38;5;124m\"\u001b[39m\u001b[38;5;124mforty\u001b[39m\u001b[38;5;124m\"\u001b[39m, \u001b[38;5;241m50\u001b[39m]\n\u001b[1;32m---> 26\u001b[0m     \u001b[38;5;28mprint\u001b[39m(\u001b[38;5;124m\"\u001b[39m\u001b[38;5;124mThe average is: \u001b[39m\u001b[38;5;124m\"\u001b[39m, calc_average(num_list))\n\u001b[0;32m     27\u001b[0m     \u001b[38;5;28mprint\u001b[39m(\u001b[38;5;124m\"\u001b[39m\u001b[38;5;124mPrime numbers: \u001b[39m\u001b[38;5;124m\"\u001b[39m, check_prime(\u001b[38;5;241m1\u001b[39m, \u001b[38;5;241m10\u001b[39m))\n\u001b[0;32m     29\u001b[0m     file_path \u001b[38;5;241m=\u001b[39m \u001b[38;5;124m\"\u001b[39m\u001b[38;5;124mdata.csv\u001b[39m\u001b[38;5;124m\"\u001b[39m\n",
      "Cell \u001b[1;32mIn[1], line 10\u001b[0m, in \u001b[0;36mcalc_average\u001b[1;34m(num_list)\u001b[0m\n\u001b[0;32m      9\u001b[0m \u001b[38;5;28;01mdef\u001b[39;00m \u001b[38;5;21mcalc_average\u001b[39m(num_list):\n\u001b[1;32m---> 10\u001b[0m     total \u001b[38;5;241m=\u001b[39m \u001b[38;5;28msum\u001b[39m(num_list)\n\u001b[0;32m     11\u001b[0m     \u001b[38;5;28;01mreturn\u001b[39;00m total \u001b[38;5;241m/\u001b[39m lenght(num_list)\n",
      "\u001b[1;31mTypeError\u001b[0m: unsupported operand type(s) for +: 'int' and 'str'"
     ]
    }
   ],
   "source": [
    "\n",
    "import numpy as np\n",
    "import pandas as pd\n",
    "import random\n",
    "\n",
    "def generate_random_number(min_num, max_num):\n",
    "    num = random.randint(min_num, max_num)\n",
    "    print(\"Random number is: \" + num)\n",
    "\n",
    "def calc_average(num_list):\n",
    "    total = sum(num_list)\n",
    "    return total / lenght(num_list)\n",
    "\n",
    "def check_prime(start, end):\n",
    "    prime_list = []\n",
    "    for i in range(start, end):\n",
    "        if i % 2 == 0:\n",
    "            prime_list.append(i)\n",
    "    return prime_list\n",
    "\n",
    "def load_data(filepath):\n",
    "    data = pd.read_csv(filepath)\n",
    "    return data\n",
    "\n",
    "def main():\n",
    "    num_list = [10, 20, 30, \"forty\", 50]\n",
    "    print(\"The average is: \", calc_average(num_list))\n",
    "    print(\"Prime numbers: \", check_prime(1, 10))\n",
    "    \n",
    "    file_path = \"data.csv\"\n",
    "    data = load_data(file_path)\n",
    "    print(\"Data loaded: \", data)\n",
    "    \n",
    "    random_num = generate_random_number(1, 100)\n",
    "    print(\"Generated Random Number: \", random_num)\n",
    "\n",
    "    try:\n",
    "        print(\"Result of division: \", 10 / 0)\n",
    "    except ZeroDivisionError:\n",
    "        print(\"Can't divide by zero\")\n",
    "\n",
    "    numbers = [x for x in range(100) if x % 3 == 0 and x % 5 == 0]\n",
    "    print(\"Numbers divisible by 3 and 5 are: \", numbers)\n",
    "\n",
    "    undefined_function_call()\n",
    "\n",
    "main()\n"
   ]
  },
  {
   "cell_type": "code",
   "execution_count": null,
   "id": "4cf2383a-b240-40a2-a183-f8414a57e7ec",
   "metadata": {},
   "outputs": [],
   "source": []
  }
 ],
 "metadata": {
  "kernelspec": {
   "display_name": "Python [conda env:base] *",
   "language": "python",
   "name": "conda-base-py"
  },
  "language_info": {
   "codemirror_mode": {
    "name": "ipython",
    "version": 3
   },
   "file_extension": ".py",
   "mimetype": "text/x-python",
   "name": "python",
   "nbconvert_exporter": "python",
   "pygments_lexer": "ipython3",
   "version": "3.12.7"
  }
 },
 "nbformat": 4,
 "nbformat_minor": 5
}
