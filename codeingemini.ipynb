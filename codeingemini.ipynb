{
 "cells": [
  {
   "cell_type": "code",
   "execution_count": 1,
   "id": "f3376fa3-4a72-40b7-bd21-763fe9e54337",
   "metadata": {},
   "outputs": [
    {
     "name": "stdout",
     "output_type": "stream",
     "text": [
      "The average is:  30.0\n",
      "Prime numbers:  [2, 3, 5, 7]\n",
      "Error: File not found at data.csv\n",
      "Random number is:  9\n",
      "Generated Random Number:  9\n",
      "Can't divide by zero\n",
      "Numbers divisible by 3 and 5 are:  [0, 15, 30, 45, 60, 75, 90]\n"
     ]
    }
   ],
   "source": [
    "import numpy as np\n",
    "import pandas as pd\n",
    "import random\n",
    "\n",
    "def generate_random_number(min_num, max_num):\n",
    "    num = random.randint(min_num, max_num)\n",
    "    print(\"Random number is: \", num)  # Convert num to string for printing\n",
    "    return num # Return the random number\n",
    "\n",
    "def calculate_average(num_list): # Corrected function name\n",
    "    total = sum(num_list)\n",
    "    return total / len(num_list) # Corrected length function name\n",
    "\n",
    "def check_prime(start, end):\n",
    "    prime_list = []\n",
    "    for i in range(start, end):\n",
    "        is_prime = True\n",
    "        if i <= 1:\n",
    "            is_prime = False  # 1 and numbers less than 1 are not prime\n",
    "        else:\n",
    "            for j in range(2, int(i**0.5) + 1): # Check divisibility only up to the square root\n",
    "                if i % j == 0:\n",
    "                    is_prime = False\n",
    "                    break\n",
    "        if is_prime:\n",
    "            prime_list.append(i)\n",
    "    return prime_list\n",
    "\n",
    "def load_data(filepath):\n",
    "    try:\n",
    "        data = pd.read_csv(filepath)\n",
    "        return data\n",
    "    except FileNotFoundError:\n",
    "        print(f\"Error: File not found at {filepath}\")\n",
    "        return None  # Return None if the file is not found\n",
    "    except Exception as e: # Catch other potential errors during file reading\n",
    "        print(f\"An error occurred while reading the file: {e}\")\n",
    "        return None\n",
    "\n",
    "def main():\n",
    "    num_list = [10, 20, 30, 40, 50] # Corrected \"forty\" to 40\n",
    "    print(\"The average is: \", calculate_average(num_list)) # Corrected function name\n",
    "    print(\"Prime numbers: \", check_prime(1, 10))\n",
    "    \n",
    "    file_path = \"data.csv\"\n",
    "    data = load_data(file_path)\n",
    "    if data is not None: # Check if data was loaded successfully before printing\n",
    "      print(\"Data loaded: \", data)\n",
    "    \n",
    "    random_num = generate_random_number(1, 100)\n",
    "    print(\"Generated Random Number: \", random_num)\n",
    "\n",
    "    try:\n",
    "        print(\"Result of division: \", 10 / 0)\n",
    "    except ZeroDivisionError:\n",
    "        print(\"Can't divide by zero\")\n",
    "\n",
    "    numbers = [x for x in range(100) if x % 3 == 0 and x % 5 == 0]\n",
    "    print(\"Numbers divisible by 3 and 5 are: \", numbers)\n",
    "\n",
    "    # undefined_function_call()  # Removed the call to the undefined function\n",
    "\n",
    "main()"
   ]
  },
  {
   "cell_type": "code",
   "execution_count": null,
   "id": "2fd5e8ee-2402-49b3-94ac-4d26987b8e79",
   "metadata": {},
   "outputs": [],
   "source": []
  }
 ],
 "metadata": {
  "kernelspec": {
   "display_name": "Python [conda env:base] *",
   "language": "python",
   "name": "conda-base-py"
  },
  "language_info": {
   "codemirror_mode": {
    "name": "ipython",
    "version": 3
   },
   "file_extension": ".py",
   "mimetype": "text/x-python",
   "name": "python",
   "nbconvert_exporter": "python",
   "pygments_lexer": "ipython3",
   "version": "3.12.7"
  }
 },
 "nbformat": 4,
 "nbformat_minor": 5
}
