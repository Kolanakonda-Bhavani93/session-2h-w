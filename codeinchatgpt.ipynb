{
 "cells": [
  {
   "cell_type": "code",
   "execution_count": 1,
   "id": "775fbf5a-b213-402f-9d4c-0a20ee330900",
   "metadata": {},
   "outputs": [
    {
     "name": "stdout",
     "output_type": "stream",
     "text": [
      "The average is:  27.5\n",
      "Prime numbers:  [2, 3, 5, 7]\n",
      "Data loaded:  Error: File not found.\n",
      "Random number is: 32\n",
      "Generated Random Number:  32\n",
      "Can't divide by zero\n",
      "Numbers divisible by 3 and 5 are:  [0, 15, 30, 45, 60, 75, 90]\n"
     ]
    }
   ],
   "source": [
    "import numpy as np\n",
    "import pandas as pd\n",
    "import random\n",
    "\n",
    "def generate_random_number(min_num, max_num):\n",
    "    num = random.randint(min_num, max_num)\n",
    "    print(\"Random number is: \" + str(num))\n",
    "    return num  # Fix: Function now returns the generated number\n",
    "\n",
    "def calc_average(num_list):\n",
    "    # Fix: Filter out non-numeric values\n",
    "    num_list = [num for num in num_list if isinstance(num, (int, float))]\n",
    "    \n",
    "    if len(num_list) == 0:\n",
    "        return \"Error: List contains no numeric values\"\n",
    "    \n",
    "    total = sum(num_list)\n",
    "    return total / len(num_list)  # Fix: Corrected `lenght` to `len`\n",
    "\n",
    "def check_prime(start, end):\n",
    "    prime_list = []\n",
    "    for num in range(start, end):\n",
    "        if num > 1:\n",
    "            is_prime = True\n",
    "            for i in range(2, int(num ** 0.5) + 1):\n",
    "                if num % i == 0:\n",
    "                    is_prime = False\n",
    "                    break\n",
    "            if is_prime:\n",
    "                prime_list.append(num)\n",
    "    return prime_list  # Fix: Corrected logic to find prime numbers\n",
    "\n",
    "def load_data(filepath):\n",
    "    try:\n",
    "        data = pd.read_csv(filepath)\n",
    "        return data\n",
    "    except FileNotFoundError:\n",
    "        return \"Error: File not found.\"\n",
    "\n",
    "def main():\n",
    "    num_list = [10, 20, 30, \"forty\", 50]\n",
    "    print(\"The average is: \", calc_average(num_list))  # Fix: Filtering non-numeric values\n",
    "\n",
    "    print(\"Prime numbers: \", check_prime(1, 10))  # Fix: Corrected function logic\n",
    "\n",
    "    file_path = \"data.csv\"\n",
    "    data = load_data(file_path)\n",
    "    print(\"Data loaded: \", data)\n",
    "\n",
    "    random_num = generate_random_number(1, 100)  # Fix: Assigned returned value\n",
    "    print(\"Generated Random Number: \", random_num)\n",
    "\n",
    "    try:\n",
    "        print(\"Result of division: \", 10 / 0)\n",
    "    except ZeroDivisionError:\n",
    "        print(\"Can't divide by zero\")  # Correctly handled\n",
    "\n",
    "    numbers = [x for x in range(100) if x % 3 == 0 and x % 5 == 0]\n",
    "    print(\"Numbers divisible by 3 and 5 are: \", numbers)\n",
    "\n",
    "    # Fix: Removed undefined function call\n",
    "\n",
    "if __name__ == \"__main__\":\n",
    "    main()\n"
   ]
  },
  {
   "cell_type": "code",
   "execution_count": null,
   "id": "edbec9d5-dde3-4848-8fb5-3e7b916abcb3",
   "metadata": {},
   "outputs": [],
   "source": []
  }
 ],
 "metadata": {
  "kernelspec": {
   "display_name": "Python [conda env:base] *",
   "language": "python",
   "name": "conda-base-py"
  },
  "language_info": {
   "codemirror_mode": {
    "name": "ipython",
    "version": 3
   },
   "file_extension": ".py",
   "mimetype": "text/x-python",
   "name": "python",
   "nbconvert_exporter": "python",
   "pygments_lexer": "ipython3",
   "version": "3.12.7"
  }
 },
 "nbformat": 4,
 "nbformat_minor": 5
}
